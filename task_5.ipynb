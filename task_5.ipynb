{
  "nbformat": 4,
  "nbformat_minor": 0,
  "metadata": {
    "colab": {
      "provenance": [],
      "authorship_tag": "ABX9TyPwkXmsHONw+AVcbM97Omqf",
      "include_colab_link": true
    },
    "kernelspec": {
      "name": "python3",
      "display_name": "Python 3"
    },
    "language_info": {
      "name": "python"
    }
  },
  "cells": [
    {
      "cell_type": "markdown",
      "metadata": {
        "id": "view-in-github",
        "colab_type": "text"
      },
      "source": [
        "<a href=\"https://colab.research.google.com/github/Gnanasree12/iiit_internship/blob/main/task_5.ipynb\" target=\"_parent\"><img src=\"https://colab.research.google.com/assets/colab-badge.svg\" alt=\"Open In Colab\"/></a>"
      ]
    },
    {
      "cell_type": "code",
      "execution_count": null,
      "metadata": {
        "id": "yc7LPUv3yvVB"
      },
      "outputs": [],
      "source": [
        "!pip install ultralytics\n",
        "from ultralytics import YOLO\n",
        "\n",
        "# Clone your repo here if you already have one (optional)\n",
        "# !git clone https://github.com/YourUsername/YourRepoName.git\n"
      ]
    },
    {
      "cell_type": "code",
      "source": [
        "from google.colab import files\n",
        "uploaded = files.upload()\n"
      ],
      "metadata": {
        "id": "tl1ibAHj05vc"
      },
      "execution_count": null,
      "outputs": []
    },
    {
      "cell_type": "code",
      "source": [
        "import os\n",
        "os.rename(\"cookies (1).txt\", \"cookies.txt\")\n"
      ],
      "metadata": {
        "id": "qtS06Oxs1UkD"
      },
      "execution_count": null,
      "outputs": []
    },
    {
      "cell_type": "code",
      "source": [
        "!yt-dlp --cookies cookies.txt https://youtu.be/46iWkLmZ4g8 -o accident_video.mp4\n"
      ],
      "metadata": {
        "id": "kpIC0WGX1Dyx"
      },
      "execution_count": null,
      "outputs": []
    },
    {
      "cell_type": "code",
      "source": [
        "!mkdir -p accident_frames\n",
        "!ffmpeg -i accident_video.mp4.webm -vf fps=1 accident_frames/frame_%04d.jpg\n"
      ],
      "metadata": {
        "id": "IH1n9dHW1hX0"
      },
      "execution_count": null,
      "outputs": []
    },
    {
      "cell_type": "code",
      "source": [
        "import os\n",
        "from IPython.display import Image, display\n",
        "\n",
        "# List the files\n",
        "frames = os.listdir(\"accident_frames\")\n",
        "print(\"Total Frames Extracted:\", len(frames))\n",
        "\n",
        "# Display first few frames\n",
        "for frame in sorted(frames)[:3]:\n",
        "    display(Image(filename=f\"accident_frames/{frame}\"))\n"
      ],
      "metadata": {
        "id": "v2GSHxZ42eLR"
      },
      "execution_count": null,
      "outputs": []
    },
    {
      "cell_type": "code",
      "source": [
        "!pip install ultralytics roboflow\n"
      ],
      "metadata": {
        "id": "aO_EhfwY-10p"
      },
      "execution_count": null,
      "outputs": []
    },
    {
      "cell_type": "code",
      "source": [
        "from roboflow import Roboflow\n",
        "\n",
        "rf = Roboflow(api_key=\"cnqGOA9rCiIPsmAHil0d\")\n",
        "\n",
        "# Use the correct workspace and project IDs\n",
        "project = rf.workspace(\"training-set-tzppf\").project(\"silent-accident-detection-using-sdv1i\")\n",
        "\n",
        "# Download dataset version 1 for YOLOv8\n",
        "dataset = project.version(1).download(\"yolov8\")\n",
        "\n",
        "\n"
      ],
      "metadata": {
        "id": "lXOoCgU9-8_w"
      },
      "execution_count": null,
      "outputs": []
    },
    {
      "cell_type": "code",
      "source": [
        "from ultralytics import YOLO\n",
        "\n",
        "# Load a YOLOv8 model (you can use yolov8n/yolov8s/yolov8m/yolov8l)\n",
        "model = YOLO(\"yolov8n.pt\")\n",
        "\n",
        "# Train the model on your dataset\n",
        "results = model.train(data=\"Silent-Accident-Detection-using--1/data.yaml\", epochs=50, imgsz=640)\n"
      ],
      "metadata": {
        "id": "FJRSLlkLA5SQ"
      },
      "execution_count": null,
      "outputs": []
    },
    {
      "cell_type": "code",
      "source": [
        "model.predict(source=\"accident_video.mp4.webm\", save=True)"
      ],
      "metadata": {
        "id": "3kYEebcFBCMv"
      },
      "execution_count": null,
      "outputs": []
    },
    {
      "cell_type": "code",
      "source": [
        "from IPython.display import Video\n",
        "\n",
        "Video(\"runs/detect/predict/accident_video.mp4.webm\", embed=True)\n"
      ],
      "metadata": {
        "id": "YWKKKG0wDHGn"
      },
      "execution_count": null,
      "outputs": []
    },
    {
      "cell_type": "code",
      "source": [
        "from IPython.display import Image, display\n",
        "\n",
        "display(Image(filename='runs/detect/train/results.png'))  # Use the right 'train' folder name"
      ],
      "metadata": {
        "id": "kd8U5OQ2EAS3"
      },
      "execution_count": null,
      "outputs": []
    },
    {
      "cell_type": "code",
      "metadata": {
        "id": "acf1ade5"
      },
      "source": [
        "# Run prediction on extracted frames\n",
        "results_frames = model.predict(source=\"accident_frames\", save=True)"
      ],
      "execution_count": null,
      "outputs": []
    },
    {
      "cell_type": "code",
      "metadata": {
        "id": "9e9c9411"
      },
      "source": [
        "# Display a sample frame with predictions\n",
        "from IPython.display import Image, display\n",
        "import os\n",
        "\n",
        "# Get the directory where results are saved (should be runs/detect/predict4 or similar)\n",
        "results_dir = results_frames[0].save_dir\n",
        "\n",
        "# List files in the results directory\n",
        "predicted_frames = os.listdir(results_dir)\n",
        "\n",
        "# Display the first predicted frame\n",
        "if predicted_frames:\n",
        "    display(Image(filename=os.path.join(results_dir, sorted(predicted_frames)[0])))\n",
        "else:\n",
        "    print(\"No predicted frames found.\")"
      ],
      "execution_count": null,
      "outputs": []
    },
    {
      "cell_type": "code",
      "source": [
        "from IPython.display import Image, display\n",
        "display(Image(filename='runs/detect/train2/confusion_matrix.png'))  # adjust folder if needed\n"
      ],
      "metadata": {
        "id": "gVSRI28KFRpo"
      },
      "execution_count": null,
      "outputs": []
    }
  ]
}